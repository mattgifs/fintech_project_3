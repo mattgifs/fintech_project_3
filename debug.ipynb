{
 "cells": [
  {
   "cell_type": "code",
   "execution_count": 1,
   "id": "7ffa6dc0-2287-4a5f-9e4e-29b4a7753be7",
   "metadata": {},
   "outputs": [
    {
     "data": {
      "text/plain": [
       "True"
      ]
     },
     "execution_count": 1,
     "metadata": {},
     "output_type": "execute_result"
    }
   ],
   "source": [
    "import os\n",
    "import json\n",
    "from web3 import Web3\n",
    "from pathlib import Path\n",
    "from dotenv import load_dotenv\n",
    "import streamlit as st\n",
    "load_dotenv()\n"
   ]
  },
  {
   "cell_type": "code",
   "execution_count": 2,
   "id": "59f2e100-e4b9-4b08-94b4-7cb5333a00f8",
   "metadata": {},
   "outputs": [],
   "source": [
    "contract_address = os.getenv(\"SMART_CONTRACT_ADDRESS\")"
   ]
  },
  {
   "cell_type": "code",
   "execution_count": 3,
   "id": "deb1e6a5-7ba9-40c8-b8dd-287a774142a3",
   "metadata": {},
   "outputs": [
    {
     "name": "stdout",
     "output_type": "stream",
     "text": [
      "0x2dbDda81e2e1C893882516B410c5Dc4e0aC027bC\n"
     ]
    }
   ],
   "source": [
    "print(contract_address)"
   ]
  },
  {
   "cell_type": "code",
   "execution_count": 4,
   "id": "c1c63e1b-f3cd-4650-a381-1f7f6ace005d",
   "metadata": {},
   "outputs": [],
   "source": [
    "w3 = Web3(Web3.HTTPProvider(os.getenv(\"WEB3_PROVIDER_URI\")))"
   ]
  },
  {
   "cell_type": "code",
   "execution_count": 5,
   "id": "ac970631-429b-47d1-8e7a-f1dc4a057511",
   "metadata": {},
   "outputs": [],
   "source": [
    "\n",
    "#@st.cache_resource()\n",
    "def load_contract(w3):\n",
    "\n",
    "    # Load the contract ABI\n",
    "    with open(Path('./contracts/compiled/mem_token_abi.json')) as f:\n",
    "        mem_token_abi = json.load(f)\n",
    "\n",
    "    contract_address = os.getenv(\"SMART_CONTRACT_ADDRESS\")\n",
    "\n",
    "    # Load the contract\n",
    "    contract = w3.eth.contract(\n",
    "        address=contract_address,\n",
    "        abi=mem_token_abi\n",
    "    )\n",
    "\n",
    "    return contract\n",
    "\n"
   ]
  },
  {
   "cell_type": "code",
   "execution_count": 6,
   "id": "b289df6d-0d31-4f9f-ba2a-9e5489775419",
   "metadata": {},
   "outputs": [],
   "source": [
    "contract = load_contract(w3)"
   ]
  },
  {
   "cell_type": "code",
   "execution_count": 7,
   "id": "96818906-a341-4b94-8478-57e5d0a9738c",
   "metadata": {},
   "outputs": [
    {
     "name": "stdout",
     "output_type": "stream",
     "text": [
      "<web3._utils.datatypes.Contract object at 0x000001A7AD3D1C90>\n"
     ]
    }
   ],
   "source": [
    "print(contract)"
   ]
  },
  {
   "cell_type": "code",
   "execution_count": 8,
   "id": "d946c38f-a800-4fe9-bc1f-e7919c7f3128",
   "metadata": {},
   "outputs": [],
   "source": [
    "traits = contract.functions.getMembershipInfo(0).call()"
   ]
  },
  {
   "cell_type": "code",
   "execution_count": 9,
   "id": "e6224979-cdef-4b55-a141-23bee70b2e9b",
   "metadata": {},
   "outputs": [
    {
     "name": "stdout",
     "output_type": "stream",
     "text": [
      "['test1', '1', 10, 0]\n"
     ]
    }
   ],
   "source": [
    "print(traits)"
   ]
  },
  {
   "cell_type": "code",
   "execution_count": 10,
   "id": "c709b541-8aee-4284-8757-dcc892efc6bf",
   "metadata": {},
   "outputs": [],
   "source": [
    "class Trait:\n",
    "    def __init__(self, name, value, maxSupply, mintedCount):\n",
    "        self.name = name\n",
    "        self.value = value\n",
    "        self.maxSupply = maxSupply\n",
    "        self.mintedCount = mintedCount"
   ]
  },
  {
   "cell_type": "code",
   "execution_count": 30,
   "id": "644afef1-495f-407a-91dc-adfe2fb42ccd",
   "metadata": {},
   "outputs": [
    {
     "name": "stdout",
     "output_type": "stream",
     "text": [
      "Trait Data:\n",
      "Name: test1\n",
      "Value: 1\n",
      "Max Supply: 10\n",
      "Remaining: 6\n"
     ]
    }
   ],
   "source": [
    "trait_data = contract.functions.getMembershipInfo(0).call()\n",
    "name, value, maxSupply, mintedCount = trait_data\n",
    "trait = Trait(name, value, maxSupply, mintedCount)\n",
    "print(\"Trait Data:\")\n",
    "print(f\"Name: {trait.name}\")\n",
    "print(f\"Value: {trait.value}\")\n",
    "print(f\"Max Supply: {trait.maxSupply}\")\n",
    "print(f\"Remaining: {trait.maxSupply - trait.mintedCount}\")"
   ]
  },
  {
   "cell_type": "code",
   "execution_count": 39,
   "id": "51cd84de-af1f-4405-a311-bd64e5be29f3",
   "metadata": {},
   "outputs": [],
   "source": [
    "trait_options = []\n",
    "\n",
    "for ele in list(range(0,2)):\n",
    "    trait_data = contract.functions.getMembershipInfo(ele).call()\n",
    "    name, value, maxSupply, mintedCount = trait_data\n",
    "    trait_form = {f'Name: "
   ]
  },
  {
   "cell_type": "code",
   "execution_count": 40,
   "id": "73f3a9d7-afbf-4904-9a78-e88ff9253290",
   "metadata": {},
   "outputs": [
    {
     "data": {
      "text/plain": [
       "[['test1', '1', 10, 4], ['test2', '1', 10, 1]]"
      ]
     },
     "execution_count": 40,
     "metadata": {},
     "output_type": "execute_result"
    }
   ],
   "source": [
    "trait_options"
   ]
  },
  {
   "cell_type": "code",
   "execution_count": 19,
   "id": "fe95d1a5-dd81-4340-a18d-cfd329777f42",
   "metadata": {},
   "outputs": [
    {
     "name": "stdout",
     "output_type": "stream",
     "text": [
      "133941175035896432207\n"
     ]
    }
   ],
   "source": [
    "address='0xfe28b170E3F283DaA8A98ef84A09ff0A004F37F3'\n",
    "acctbal = w3.eth.getBalance(address)\n",
    "print(acctbal)"
   ]
  },
  {
   "cell_type": "code",
   "execution_count": 28,
   "id": "edcdf7e7-aa58-419b-8576-8fe6d35608b3",
   "metadata": {},
   "outputs": [
    {
     "name": "stdout",
     "output_type": "stream",
     "text": [
      "Transaction receipt mined:\n",
      "{'transactionHash': HexBytes('0x45af0d64b75c0e85aaf9d2c69d810a4b3a4fdc289e931ca25a05cbefc470f176'), 'transactionIndex': 0, 'blockNumber': 45, 'blockHash': HexBytes('0xa142c1c233734d8d99d13c77ab3881068dfbffce04dec2d61cef4bc74a0d4611'), 'from': '0xfe28b170E3F283DaA8A98ef84A09ff0A004F37F3', 'to': '0x2dbDda81e2e1C893882516B410c5Dc4e0aC027bC', 'cumulativeGasUsed': 258886, 'gasUsed': 258886, 'contractAddress': None, 'logs': [AttributeDict({'address': '0x2dbDda81e2e1C893882516B410c5Dc4e0aC027bC', 'blockHash': HexBytes('0xa142c1c233734d8d99d13c77ab3881068dfbffce04dec2d61cef4bc74a0d4611'), 'blockNumber': 45, 'data': '0x', 'logIndex': 0, 'removed': False, 'topics': [HexBytes('0xddf252ad1be2c89b69c2b068fc378daa952ba7f163c4a11628f55a4df523b3ef'), HexBytes('0x0000000000000000000000000000000000000000000000000000000000000000'), HexBytes('0x000000000000000000000000fe28b170e3f283daa8a98ef84a09ff0a004f37f3'), HexBytes('0x0000000000000000000000000000000000000000000000000000000000000002')], 'transactionHash': HexBytes('0x45af0d64b75c0e85aaf9d2c69d810a4b3a4fdc289e931ca25a05cbefc470f176'), 'transactionIndex': 0})], 'logsBloom': HexBytes('0x04040000000000000000000000000000000000000000000000000000000000000000000000000000000000000000000000000000000000000000000000000000000000000000000000000008000000000000000000000000080000000000000000000000020000000000000000000800000000000000000000000010000000400000000000000000000000000000000000000000000000000000000000000000000000000000000000000500000000000000000000100000000000000000000000000002000000000000000000000000000000000000000000000000000020000000000000000000800000000000000000000000008000000000000000000000'), 'status': 1, 'effectiveGasPrice': '0x8245fb', 'type': '0x2'}\n",
      "Purchase Complete!\n"
     ]
    }
   ],
   "source": [
    "\n",
    "tx_hash = contract.functions.mintMembership(\n",
    "address,0).transact({'from': address, 'gas': 1000000})\n",
    "receipt = w3.eth.waitForTransactionReceipt(tx_hash)\n",
    "print(\"Transaction receipt mined:\")\n",
    "print(dict(receipt))\n",
    "print(f\"Purchase Complete!\")"
   ]
  },
  {
   "cell_type": "code",
   "execution_count": null,
   "id": "5f6395d0-b5b1-4a88-9f35-c8a9488782c0",
   "metadata": {},
   "outputs": [],
   "source": []
  }
 ],
 "metadata": {
  "kernelspec": {
   "display_name": "Python 3 (ipykernel)",
   "language": "python",
   "name": "python3"
  },
  "language_info": {
   "codemirror_mode": {
    "name": "ipython",
    "version": 3
   },
   "file_extension": ".py",
   "mimetype": "text/x-python",
   "name": "python",
   "nbconvert_exporter": "python",
   "pygments_lexer": "ipython3",
   "version": "3.10.10"
  }
 },
 "nbformat": 4,
 "nbformat_minor": 5
}
