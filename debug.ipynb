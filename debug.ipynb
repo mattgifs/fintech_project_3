{
 "cells": [
  {
   "cell_type": "code",
   "execution_count": 1,
   "id": "7ffa6dc0-2287-4a5f-9e4e-29b4a7753be7",
   "metadata": {},
   "outputs": [
    {
     "data": {
      "text/plain": [
       "True"
      ]
     },
     "execution_count": 1,
     "metadata": {},
     "output_type": "execute_result"
    }
   ],
   "source": [
    "import os\n",
    "import json\n",
    "from web3 import Web3\n",
    "from pathlib import Path\n",
    "from dotenv import load_dotenv\n",
    "import streamlit as st\n",
    "load_dotenv()\n"
   ]
  },
  {
   "cell_type": "code",
   "execution_count": 2,
   "id": "59f2e100-e4b9-4b08-94b4-7cb5333a00f8",
   "metadata": {},
   "outputs": [],
   "source": [
    "contract_address = os.getenv(\"SMART_CONTRACT_ADDRESS\")"
   ]
  },
  {
   "cell_type": "code",
   "execution_count": 3,
   "id": "deb1e6a5-7ba9-40c8-b8dd-287a774142a3",
   "metadata": {},
   "outputs": [
    {
     "name": "stdout",
     "output_type": "stream",
     "text": [
      "0x90e83E1352f0d6D8D322ae0BaBf26AB778b768d5\n"
     ]
    }
   ],
   "source": [
    "print(contract_address)"
   ]
  },
  {
   "cell_type": "code",
   "execution_count": 4,
   "id": "c1c63e1b-f3cd-4650-a381-1f7f6ace005d",
   "metadata": {},
   "outputs": [],
   "source": [
    "w3 = Web3(Web3.HTTPProvider(os.getenv(\"WEB3_PROVIDER_URI\")))"
   ]
  },
  {
   "cell_type": "code",
   "execution_count": 5,
   "id": "ac970631-429b-47d1-8e7a-f1dc4a057511",
   "metadata": {},
   "outputs": [],
   "source": [
    "\n",
    "#@st.cache_resource()\n",
    "def load_contract(w3):\n",
    "\n",
    "    # Load the contract ABI\n",
    "    with open(Path('./contracts/compiled/mem_token_abi.json')) as f:\n",
    "        mem_token_abi = json.load(f)\n",
    "\n",
    "    contract_address = os.getenv(\"SMART_CONTRACT_ADDRESS\")\n",
    "\n",
    "    # Load the contract\n",
    "    contract = w3.eth.contract(\n",
    "        address=contract_address,\n",
    "        abi=mem_token_abi\n",
    "    )\n",
    "\n",
    "    return contract\n",
    "\n"
   ]
  },
  {
   "cell_type": "code",
   "execution_count": 6,
   "id": "b289df6d-0d31-4f9f-ba2a-9e5489775419",
   "metadata": {},
   "outputs": [],
   "source": [
    "contract = load_contract(w3)"
   ]
  },
  {
   "cell_type": "code",
   "execution_count": 7,
   "id": "96818906-a341-4b94-8478-57e5d0a9738c",
   "metadata": {},
   "outputs": [
    {
     "name": "stdout",
     "output_type": "stream",
     "text": [
      "<web3._utils.datatypes.Contract object at 0x000002944BE492A0>\n"
     ]
    }
   ],
   "source": [
    "print(contract)"
   ]
  },
  {
   "cell_type": "code",
   "execution_count": null,
   "id": "d946c38f-a800-4fe9-bc1f-e7919c7f3128",
   "metadata": {},
   "outputs": [],
   "source": [
    "traits = contract.functions.getMembershipInfo(0).call()"
   ]
  },
  {
   "cell_type": "code",
   "execution_count": null,
   "id": "e6224979-cdef-4b55-a141-23bee70b2e9b",
   "metadata": {},
   "outputs": [
    {
     "name": "stdout",
     "output_type": "stream",
     "text": [
      "['Russian River Valley', 1000000000000000000, 100, 0]\n"
     ]
    }
   ],
   "source": [
    "print(traits)"
   ]
  },
  {
   "cell_type": "code",
   "execution_count": null,
   "id": "c709b541-8aee-4284-8757-dcc892efc6bf",
   "metadata": {},
   "outputs": [],
   "source": [
    "class Trait:\n",
    "    def __init__(self, name, value, maxSupply, mintedCount):\n",
    "        self.name = name\n",
    "        self.value = value\n",
    "        self.maxSupply = maxSupply\n",
    "        self.mintedCount = mintedCount"
   ]
  },
  {
   "cell_type": "code",
   "execution_count": null,
   "id": "644afef1-495f-407a-91dc-adfe2fb42ccd",
   "metadata": {},
   "outputs": [
    {
     "name": "stdout",
     "output_type": "stream",
     "text": [
      "Trait Data:\n",
      "Name: Russian River Valley\n",
      "Value: 1000000000000000000\n",
      "Max Supply: 100\n",
      "Remaining: 100\n"
     ]
    }
   ],
   "source": [
    "trait_data = contract.functions.getMembershipInfo(0).call()\n",
    "name, value, maxSupply, mintedCount = trait_data\n",
    "trait = Trait(name, value, maxSupply, mintedCount)\n",
    "print(\"Trait Data:\")\n",
    "print(f\"Name: {trait.name}\")\n",
    "print(f\"Value: {trait.value}\")\n",
    "print(f\"Max Supply: {trait.maxSupply}\")\n",
    "print(f\"Remaining: {trait.maxSupply - trait.mintedCount}\")"
   ]
  },
  {
   "cell_type": "code",
   "execution_count": 48,
   "id": "51cd84de-af1f-4405-a311-bd64e5be29f3",
   "metadata": {},
   "outputs": [
    {
     "name": "stdout",
     "output_type": "stream",
     "text": [
      " Russian River Valley | Value: 1000000000000000000 | Remaining Available: 97/100\n",
      " Napa Valley | Value: 2000000000000000000 | Remaining Available: 100/100\n",
      " Oregon | Value: 3000000000000000000 | Remaining Available: 100/100\n",
      " Columbia Valley | Value: 4000000000000000000 | Remaining Available: 100/100\n",
      " Finger Lakes | Value: 5000000000000000000 | Remaining Available: 99/100\n"
     ]
    }
   ],
   "source": [
    "trait_options = []\n",
    "\n",
    "for ele in list(range(0,5)):\n",
    "    trait_data = contract.functions.getMembershipInfo(ele).call()\n",
    "    name, value, maxSupply, mintedCount = trait_data\n",
    "    trait_form = f' {name} | Value: {value} | Remaining Available: {maxSupply-mintedCount}/{maxSupply}'\n",
    "    print(trait_form)\n",
    "    traitIndex = ele\n",
    "\n",
    "    "
   ]
  },
  {
   "cell_type": "code",
   "execution_count": 51,
   "id": "8b3da4fa-9be9-441a-8023-87516f64071a",
   "metadata": {},
   "outputs": [
    {
     "data": {
      "text/plain": [
       "[]"
      ]
     },
     "execution_count": 51,
     "metadata": {},
     "output_type": "execute_result"
    }
   ],
   "source": [
    "trait_options"
   ]
  },
  {
   "cell_type": "code",
   "execution_count": 29,
   "id": "fe95d1a5-dd81-4340-a18d-cfd329777f42",
   "metadata": {},
   "outputs": [
    {
     "name": "stdout",
     "output_type": "stream",
     "text": [
      "37999999924367411790\n"
     ]
    }
   ],
   "source": [
    "address='0x0DeA5005b7585721dd83b82c5f9f61c772129392'\n",
    "acctbal = w3.eth.getBalance(address)\n",
    "print(acctbal)"
   ]
  },
  {
   "cell_type": "code",
   "execution_count": 30,
   "id": "c8fd8c90-4dbc-4dab-85ca-36613843236f",
   "metadata": {},
   "outputs": [
    {
     "name": "stdout",
     "output_type": "stream",
     "text": [
      "5000000000000000000\n"
     ]
    }
   ],
   "source": [
    "test = contract.functions.getMembershipInfo(4).call()[1]\n",
    "print(test)"
   ]
  },
  {
   "cell_type": "code",
   "execution_count": 16,
   "id": "55f56a4c-0cf8-438a-ac87-b67f5cb4db3c",
   "metadata": {},
   "outputs": [
    {
     "name": "stdout",
     "output_type": "stream",
     "text": [
      "85.0\n"
     ]
    }
   ],
   "source": [
    "wall_bal = float(round(w3.fromWei(w3.eth.get_balance(address), \"ether\"),2))\n",
    "print(wall_bal)"
   ]
  },
  {
   "cell_type": "code",
   "execution_count": 18,
   "id": "6814ff7c-a821-4aae-9387-165101dc55b9",
   "metadata": {},
   "outputs": [
    {
     "data": {
      "text/plain": [
       "5000000000000000000"
      ]
     },
     "execution_count": 18,
     "metadata": {},
     "output_type": "execute_result"
    }
   ],
   "source": [
    "trait_price_wei"
   ]
  },
  {
   "cell_type": "code",
   "execution_count": 19,
   "id": "aac87ee7-472a-4c14-af31-c89b39d0601c",
   "metadata": {},
   "outputs": [
    {
     "name": "stdout",
     "output_type": "stream",
     "text": [
      "5\n"
     ]
    }
   ],
   "source": [
    "trait_price_eth = w3.fromWei(trait_price_wei, 'ether')\n",
    "print(trait_price_eth)"
   ]
  },
  {
   "cell_type": "code",
   "execution_count": 22,
   "id": "efe5524c-b645-4ebb-9f2d-76e44b4bfa41",
   "metadata": {},
   "outputs": [],
   "source": [
    "accounts = w3.eth.accounts[4:]"
   ]
  },
  {
   "cell_type": "code",
   "execution_count": 23,
   "id": "b8d6f7be-c39b-47aa-8170-36bb652fa0f1",
   "metadata": {},
   "outputs": [
    {
     "name": "stdout",
     "output_type": "stream",
     "text": [
      "['0x0DeA5005b7585721dd83b82c5f9f61c772129392', '0xb9575455E6339A97D10D00E2957832cEF3DDBE59', '0x783bC8d62c25003b724F6EB3e6482D8BC36F32aC', '0x8039511cA043613A0C7a36505E888c0B1c5fa679', '0x08a72D2E1C574F76C61eBFf47c9290dB8bE37CF9', '0xFd86A5584BDf7eBfB0Be82a5fcD9B93bC92171c2']\n"
     ]
    }
   ],
   "source": [
    "print(accounts)"
   ]
  },
  {
   "cell_type": "code",
   "execution_count": 55,
   "id": "0e3f7abc-a775-4a73-a6a3-b99318d754ef",
   "metadata": {},
   "outputs": [
    {
     "ename": "TypeError",
     "evalue": "unhashable type: 'dict_keys'",
     "output_type": "error",
     "traceback": [
      "\u001b[1;31m---------------------------------------------------------------------------\u001b[0m",
      "\u001b[1;31mTypeError\u001b[0m                                 Traceback (most recent call last)",
      "Cell \u001b[1;32mIn[55], line 30\u001b[0m\n\u001b[0;32m     27\u001b[0m region \u001b[38;5;241m=\u001b[39m mem_options\u001b[38;5;241m.\u001b[39mkeys()\n\u001b[0;32m     29\u001b[0m \u001b[38;5;66;03m# Update traitIndex based on the selected option\u001b[39;00m\n\u001b[1;32m---> 30\u001b[0m traitIndex \u001b[38;5;241m=\u001b[39m \u001b[43mmem_options\u001b[49m\u001b[43m[\u001b[49m\u001b[43mregion\u001b[49m\u001b[43m]\u001b[49m\n",
      "\u001b[1;31mTypeError\u001b[0m: unhashable type: 'dict_keys'"
     ]
    }
   ],
   "source": [
    "# Define dictionary to hold formatted trait info & traitIndex values\n",
    "mem_options = {}\n",
    "\n",
    "# Initialize empty traitIndex\n",
    "traitIndex = 0\n",
    "\n",
    "# Use for loop to call all available traits from the deployed contract\n",
    "for ele in list(range(0, 5)):\n",
    "    # Call the membership info\n",
    "    trait_data = contract.functions.getMembershipInfo(ele).call()\n",
    "\n",
    "    # Call trait price in wei \n",
    "    trait_price_wei = w3.toWei(contract.functions.getMembershipInfo(ele).call()[1], 'wei')\n",
    "    #Convert price\n",
    "    trait_price_eth= w3.fromWei(trait_price_wei, 'ether') \n",
    "\n",
    "    # Save the values to trait_data\n",
    "    name, Price, maxSupply, mintedCount = trait_data\n",
    "   \n",
    "    # Format the trait_data for display\n",
    "    trait_form = f' {name} | Price: {trait_price_eth} ETH | Remaining: {maxSupply - mintedCount}/{maxSupply}'\n",
    "    # Add the trait_form and the ele (traitIndex) to the mem_options dictionary \n",
    "    mem_options[trait_form] = ele\n",
    "\n",
    "# Customer selects from the list of regions\n",
    "# region = st.selectbox(\"Choose your membership:\", options=list(mem_options.keys()))\n",
    "region = mem_options.keys()\n",
    "\n",
    "# Update traitIndex based on the selected option\n",
    "traitIndex = mem_options[region]\n",
    "\n",
    "# Now traitIndex holds the selected value\n",
    "# st.write(f\"Selected Membership: {traitIndex}\")"
   ]
  },
  {
   "cell_type": "code",
   "execution_count": 44,
   "id": "d81f21dc-e947-4aa9-ac92-541e0217b6b3",
   "metadata": {},
   "outputs": [
    {
     "name": "stdout",
     "output_type": "stream",
     "text": [
      "dict_keys([' Russian River Valley | Price: 1 ETH | Remaining: 100/100', ' Napa Valley | Price: 2 ETH | Remaining: 100/100', ' Oregon | Price: 3 ETH | Remaining: 100/100', ' Columbia Valley | Price: 4 ETH | Remaining: 100/100', ' Finger Lakes | Price: 5 ETH | Remaining: 99/100'])\n"
     ]
    }
   ],
   "source": [
    "print(mem_options.keys())"
   ]
  },
  {
   "cell_type": "code",
   "execution_count": 45,
   "id": "e5b1e755-a138-4cd6-b61d-b3e05a52b73a",
   "metadata": {},
   "outputs": [
    {
     "data": {
      "text/plain": [
       "0"
      ]
     },
     "execution_count": 45,
     "metadata": {},
     "output_type": "execute_result"
    }
   ],
   "source": [
    "traitIndex"
   ]
  },
  {
   "cell_type": "code",
   "execution_count": 46,
   "id": "e66ee725-4a5c-4501-9e61-f60fb885fdcd",
   "metadata": {},
   "outputs": [],
   "source": [
    "tx_hash = contract.functions.mintMembership(\n",
    "    address,\n",
    "    traitIndex\n",
    ").transact({'from': address, 'gas': 1000000, 'value': trait_price_wei})\n",
    "receipt = w3.eth.waitForTransactionReceipt(tx_hash)\n",
    "st.write(f\"Purchase Complete!\")\n",
    "\n",
    "st.write(\"Here is your receipt:\")\n",
    "st.write(dict(receipt))\n"
   ]
  },
  {
   "cell_type": "code",
   "execution_count": null,
   "id": "284f2eeb-1939-4e64-a99f-2085c44b89f0",
   "metadata": {},
   "outputs": [],
   "source": []
  }
 ],
 "metadata": {
  "kernelspec": {
   "display_name": "Python 3 (ipykernel)",
   "language": "python",
   "name": "python3"
  },
  "language_info": {
   "codemirror_mode": {
    "name": "ipython",
    "version": 3
   },
   "file_extension": ".py",
   "mimetype": "text/x-python",
   "name": "python",
   "nbconvert_exporter": "python",
   "pygments_lexer": "ipython3",
   "version": "3.10.10"
  }
 },
 "nbformat": 4,
 "nbformat_minor": 5
}
