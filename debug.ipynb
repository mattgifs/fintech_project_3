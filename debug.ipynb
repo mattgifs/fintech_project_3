{
 "cells": [
  {
   "cell_type": "code",
   "execution_count": 1,
   "id": "7ffa6dc0-2287-4a5f-9e4e-29b4a7753be7",
   "metadata": {},
   "outputs": [
    {
     "data": {
      "text/plain": [
       "True"
      ]
     },
     "execution_count": 1,
     "metadata": {},
     "output_type": "execute_result"
    }
   ],
   "source": [
    "import os\n",
    "import json\n",
    "from web3 import Web3\n",
    "from pathlib import Path\n",
    "from dotenv import load_dotenv\n",
    "import streamlit as st\n",
    "load_dotenv()\n"
   ]
  },
  {
   "cell_type": "code",
   "execution_count": 2,
   "id": "59f2e100-e4b9-4b08-94b4-7cb5333a00f8",
   "metadata": {},
   "outputs": [],
   "source": [
    "contract_address = os.getenv(\"SMART_CONTRACT_ADDRESS\")"
   ]
  },
  {
   "cell_type": "code",
   "execution_count": 3,
   "id": "deb1e6a5-7ba9-40c8-b8dd-287a774142a3",
   "metadata": {},
   "outputs": [
    {
     "name": "stdout",
     "output_type": "stream",
     "text": [
      "0xde9A1428de5d210E0Ba271Fe5DaDf30B53777a31\n"
     ]
    }
   ],
   "source": [
    "print(contract_address)"
   ]
  },
  {
   "cell_type": "code",
   "execution_count": null,
   "id": "c1c63e1b-f3cd-4650-a381-1f7f6ace005d",
   "metadata": {},
   "outputs": [],
   "source": [
    "w3 = Web3(Web3.HTTPProvider(os.getenv(\"WEB3_PROVIDER_URI\")))"
   ]
  },
  {
   "cell_type": "code",
   "execution_count": null,
   "id": "ac970631-429b-47d1-8e7a-f1dc4a057511",
   "metadata": {},
   "outputs": [],
   "source": [
    "\n",
    "#@st.cache_resource()\n",
    "def load_contract(w3):\n",
    "\n",
    "    # Load the contract ABI\n",
    "    with open(Path('./contracts/compiled/mem_token_abi.json')) as f:\n",
    "        mem_token_abi = json.load(f)\n",
    "\n",
    "    contract_address = os.getenv(\"SMART_CONTRACT_ADDRESS\")\n",
    "\n",
    "    # Load the contract\n",
    "    contract = w3.eth.contract(\n",
    "        address=contract_address,\n",
    "        abi=mem_token_abi\n",
    "    )\n",
    "\n",
    "    return contract\n",
    "\n"
   ]
  },
  {
   "cell_type": "code",
   "execution_count": null,
   "id": "b289df6d-0d31-4f9f-ba2a-9e5489775419",
   "metadata": {},
   "outputs": [],
   "source": [
    "contract = load_contract(w3)"
   ]
  },
  {
   "cell_type": "code",
   "execution_count": null,
   "id": "96818906-a341-4b94-8478-57e5d0a9738c",
   "metadata": {},
   "outputs": [],
   "source": [
    "print(contract)"
   ]
  },
  {
   "cell_type": "code",
   "execution_count": null,
   "id": "d946c38f-a800-4fe9-bc1f-e7919c7f3128",
   "metadata": {},
   "outputs": [],
   "source": [
    "traits = contract.functions.getMembershipInfo(0).call()"
   ]
  },
  {
   "cell_type": "code",
   "execution_count": null,
   "id": "e6224979-cdef-4b55-a141-23bee70b2e9b",
   "metadata": {},
   "outputs": [],
   "source": [
    "print(traits)"
   ]
  },
  {
   "cell_type": "code",
   "execution_count": null,
   "id": "c709b541-8aee-4284-8757-dcc892efc6bf",
   "metadata": {},
   "outputs": [],
   "source": [
    "class Trait:\n",
    "    def __init__(self, name, value, maxSupply, mintedCount):\n",
    "        self.name = name\n",
    "        self.value = value\n",
    "        self.maxSupply = maxSupply\n",
    "        self.mintedCount = mintedCount"
   ]
  },
  {
   "cell_type": "code",
   "execution_count": null,
   "id": "644afef1-495f-407a-91dc-adfe2fb42ccd",
   "metadata": {},
   "outputs": [],
   "source": [
    "trait_data = contract.functions.getMembershipInfo(0).call()\n",
    "name, value, maxSupply, mintedCount = trait_data\n",
    "trait = Trait(name, value, maxSupply, mintedCount)\n",
    "print(\"Trait Data:\")\n",
    "print(f\"Name: {trait.name}\")\n",
    "print(f\"Value: {trait.value}\")\n",
    "print(f\"Max Supply: {trait.maxSupply}\")\n",
    "print(f\"Remaining: {trait.maxSupply - trait.mintedCount}\")"
   ]
  },
  {
   "cell_type": "code",
   "execution_count": null,
   "id": "51cd84de-af1f-4405-a311-bd64e5be29f3",
   "metadata": {},
   "outputs": [],
   "source": [
    "trait_options = []\n",
    "\n",
    "for ele in list(range(0,2)):\n",
    "    trait_data = contract.functions.getMembershipInfo(ele).call()\n",
    "    name, value, maxSupply, mintedCount = trait_data\n",
    "    trait_form = {f'Name: "
   ]
  },
  {
   "cell_type": "code",
   "execution_count": null,
   "id": "73f3a9d7-afbf-4904-9a78-e88ff9253290",
   "metadata": {},
   "outputs": [],
   "source": [
    "trait_options"
   ]
  },
  {
   "cell_type": "code",
   "execution_count": null,
   "id": "fe95d1a5-dd81-4340-a18d-cfd329777f42",
   "metadata": {},
   "outputs": [],
   "source": [
    "address='0xfe28b170E3F283DaA8A98ef84A09ff0A004F37F3'\n",
    "acctbal = w3.eth.getBalance(address)\n",
    "print(acctbal)"
   ]
  },
  {
   "cell_type": "code",
   "execution_count": null,
   "id": "edcdf7e7-aa58-419b-8576-8fe6d35608b3",
   "metadata": {},
   "outputs": [],
   "source": [
    "\n",
    "tx_hash = contract.functions.mintMembership(\n",
    "address,0).transact({'from': address, 'gas': 1000000})\n",
    "receipt = w3.eth.waitForTransactionReceipt(tx_hash)\n",
    "print(\"Transaction receipt mined:\")\n",
    "print(dict(receipt))\n",
    "print(f\"Purchase Complete!\")"
   ]
  },
  {
   "cell_type": "code",
   "execution_count": null,
   "id": "5f6395d0-b5b1-4a88-9f35-c8a9488782c0",
   "metadata": {},
   "outputs": [],
   "source": []
  }
 ],
 "metadata": {
  "kernelspec": {
   "display_name": "Python 3 (ipykernel)",
   "language": "python",
   "name": "python3"
  },
  "language_info": {
   "codemirror_mode": {
    "name": "ipython",
    "version": 3
   },
   "file_extension": ".py",
   "mimetype": "text/x-python",
   "name": "python",
   "nbconvert_exporter": "python",
   "pygments_lexer": "ipython3",
   "version": "3.10.10"
  }
 },
 "nbformat": 4,
 "nbformat_minor": 5
}
