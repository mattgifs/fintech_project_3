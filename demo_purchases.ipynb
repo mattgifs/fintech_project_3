{
 "cells": [
  {
   "cell_type": "code",
   "execution_count": null,
   "id": "9da9e5e7-db98-4501-a8cc-6a85f8af5ae2",
   "metadata": {},
   "outputs": [],
   "source": [
    "#Imports same as final_store.py\n",
    "import os\n",
    "import json\n",
    "from web3 import Web3\n",
    "from pathlib import Path\n",
    "from dotenv import load_dotenv\n",
    "import streamlit as st\n",
    "import psycopg2\n",
    "from sqlalchemy import create_engine\n",
    "import pandas as pd\n",
    "from PIL import Image\n",
    "load_dotenv()"
   ]
  },
  {
   "cell_type": "code",
   "execution_count": null,
   "id": "20cb3df5-b6a8-4bb4-9b9b-d3ec0cff098c",
   "metadata": {
    "tags": []
   },
   "outputs": [],
   "source": [
    "# Call contract address\n",
    "contract_address = os.getenv(\"SMART_CONTRACT_ADDRESS\")"
   ]
  },
  {
   "cell_type": "code",
   "execution_count": null,
   "id": "e8eaa659-4b17-4f14-97be-b4ee93d032f6",
   "metadata": {},
   "outputs": [],
   "source": [
    "print(contract_address)"
   ]
  },
  {
   "cell_type": "code",
   "execution_count": null,
   "id": "486f5a83-b381-4d0f-8a62-c0c398e2ac2d",
   "metadata": {},
   "outputs": [],
   "source": [
    "#Create w3 object\n",
    "w3 = Web3(Web3.HTTPProvider(os.getenv(\"WEB3_PROVIDER_URI\")))"
   ]
  },
  {
   "cell_type": "code",
   "execution_count": null,
   "id": "6c91d690-1c24-41b3-ad7f-e72a7d76da3d",
   "metadata": {},
   "outputs": [],
   "source": [
    "# Load Contract\n",
    "def load_contract(w3):\n",
    "\n",
    "    # Load the contract ABI\n",
    "    with open(Path('./contracts/compiled/mem_token_abi.json')) as f:\n",
    "        mem_token_abi = json.load(f)\n",
    "\n",
    "    contract_address = os.getenv(\"SMART_CONTRACT_ADDRESS\")\n",
    "\n",
    "    # Load the contract\n",
    "    contract = w3.eth.contract(\n",
    "        address=contract_address,\n",
    "        abi=mem_token_abi\n",
    "    )\n",
    "\n",
    "    return contract\n",
    "\n",
    "contract = load_contract(w3)"
   ]
  },
  {
   "cell_type": "code",
   "execution_count": null,
   "id": "5e70ad0c-7c0f-4c00-a0ab-c79da9ddcf94",
   "metadata": {},
   "outputs": [],
   "source": [
    "print(contract)"
   ]
  },
  {
   "cell_type": "code",
   "execution_count": null,
   "id": "9028b064-d9fa-40b2-9746-147cd31287c0",
   "metadata": {},
   "outputs": [],
   "source": [
    "# Call all ganache accounts\n",
    "all_accounts = w3.eth.accounts\n",
    "all_accounts"
   ]
  },
  {
   "cell_type": "code",
   "execution_count": null,
   "id": "42b6c8e8-dd2d-4ad6-bef5-2ac418569c54",
   "metadata": {
    "tags": []
   },
   "outputs": [],
   "source": [
    "#Import faker to generate fake customer data\n",
    "from faker import Faker\n",
    "fake = Faker()\n",
    "\n",
    "\n",
    "\n",
    "# Connect to database\n",
    "connection = psycopg2.connect(\n",
    "    dbname=\"fintech_project_3\",\n",
    "    user=\"postgres\",\n",
    "    password=\"postgres\",\n",
    "    host=\"localhost\",\n",
    "    port=5432\n",
    ")\n",
    "\n",
    "cursor = connection.cursor()\n",
    "\n",
    "#Manually set traitindex for each round of demo purchases\n",
    "traitIndex = 4\n",
    "\n",
    "# For loop to generate customer information, mintMembership, and insert to database\n",
    "# Enter discretionary number for range value\n",
    "for i in range(47):\n",
    "    # Generate fake customer information\n",
    "    first_name = fake.first_name()\n",
    "    last_name = fake.last_name()\n",
    "    street_address = fake.street_address()\n",
    "    city = fake.city()\n",
    "    state = fake.state()\n",
    "    zip_code = fake.postalcode()\n",
    "    \n",
    "    # Choose account with balance less than 150 ETH (dont want the contract owner account)\n",
    "    # and greater than 1 ETH (so they can afford the purchase)\n",
    "    for i in all_accounts:\n",
    "        #Get account balance\n",
    "        wall_bal = float(round(w3.fromWei(w3.eth.get_balance(i), \"ether\"),2))\n",
    "        if wall_bal < 150:\n",
    "            if wall_bal > 1:\n",
    "                address = i\n",
    "    \n",
    "    # Call trait price in wei for selected traitIndex\n",
    "    trait_price_wei = w3.toWei(contract.functions.getMembershipInfo(traitIndex).call()[1], 'wei')\n",
    "    # Convert price to ETH\n",
    "    trait_price_eth= w3.fromWei(trait_price_wei, 'ether') \n",
    "    \n",
    "    # Use the contract to send a transaction to the mintMembership function\n",
    "    tx_hash = contract.functions.mintMembership(\n",
    "        address,\n",
    "        traitIndex\n",
    "    ).transact({'from': address, 'gas': 1000000, 'value': trait_price_wei})\n",
    "    receipt = w3.eth.waitForTransactionReceipt(tx_hash)\n",
    "\n",
    "    # Store other values for db insert\n",
    "    tx_hash_value=receipt['transactionHash'].hex()\n",
    "    traitIndex_value=traitIndex\n",
    "    eth_price_value=trait_price_eth\n",
    "    gas_cost_value= receipt['gasUsed']\n",
    "\n",
    "    insert_query = \"\"\"\n",
    "    INSERT INTO customer_data (first_name, last_name, street_address, city, cust_state, zip_code, tx_hash, traitIndex, eth_price, gas_cost)\n",
    "    VALUES (%s, %s, %s, %s, %s, %s, %s, %s, %s, %s)\n",
    "    \"\"\"\n",
    "\n",
    "    data_to_insert = (first_name, last_name, street_address, city, state, zip_code, tx_hash_value, traitIndex_value, eth_price_value, gas_cost_value)\n",
    "\n",
    "    cursor.execute(insert_query, data_to_insert)\n",
    "    connection.commit()\n",
    "    \n",
    "\n",
    "cursor.close()\n",
    "connection.close()"
   ]
  },
  {
   "cell_type": "code",
   "execution_count": null,
   "id": "7f9418ff-2c59-46a9-9c1c-d4252c730dce",
   "metadata": {},
   "outputs": [],
   "source": []
  }
 ],
 "metadata": {
  "kernelspec": {
   "display_name": "Python 3 (ipykernel)",
   "language": "python",
   "name": "python3"
  },
  "language_info": {
   "codemirror_mode": {
    "name": "ipython",
    "version": 3
   },
   "file_extension": ".py",
   "mimetype": "text/x-python",
   "name": "python",
   "nbconvert_exporter": "python",
   "pygments_lexer": "ipython3",
   "version": "3.10.10"
  }
 },
 "nbformat": 4,
 "nbformat_minor": 5
}
