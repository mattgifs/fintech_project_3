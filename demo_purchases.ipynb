{
 "cells": [
  {
   "cell_type": "code",
   "execution_count": 34,
   "id": "9da9e5e7-db98-4501-a8cc-6a85f8af5ae2",
   "metadata": {},
   "outputs": [
    {
     "data": {
      "text/plain": [
       "True"
      ]
     },
     "execution_count": 34,
     "metadata": {},
     "output_type": "execute_result"
    }
   ],
   "source": [
    "import os\n",
    "import json\n",
    "from web3 import Web3\n",
    "from pathlib import Path\n",
    "from dotenv import load_dotenv\n",
    "import streamlit as st\n",
    "import psycopg2\n",
    "from sqlalchemy import create_engine\n",
    "import pandas as pd\n",
    "from PIL import Image\n",
    "load_dotenv()"
   ]
  },
  {
   "cell_type": "code",
   "execution_count": 35,
   "id": "20cb3df5-b6a8-4bb4-9b9b-d3ec0cff098c",
   "metadata": {
    "tags": []
   },
   "outputs": [],
   "source": [
    "contract_address = os.getenv(\"SMART_CONTRACT_ADDRESS\")"
   ]
  },
  {
   "cell_type": "code",
   "execution_count": 36,
   "id": "e8eaa659-4b17-4f14-97be-b4ee93d032f6",
   "metadata": {},
   "outputs": [
    {
     "name": "stdout",
     "output_type": "stream",
     "text": [
      "0xeD858A763Df965B09d2f4a2354E45E6186BE10C7\n"
     ]
    }
   ],
   "source": [
    "print(contract_address)"
   ]
  },
  {
   "cell_type": "code",
   "execution_count": 37,
   "id": "486f5a83-b381-4d0f-8a62-c0c398e2ac2d",
   "metadata": {},
   "outputs": [],
   "source": [
    "w3 = Web3(Web3.HTTPProvider(os.getenv(\"WEB3_PROVIDER_URI\")))"
   ]
  },
  {
   "cell_type": "code",
   "execution_count": 38,
   "id": "6c91d690-1c24-41b3-ad7f-e72a7d76da3d",
   "metadata": {},
   "outputs": [],
   "source": [
    "\n",
    "#@st.cache_resource()\n",
    "def load_contract(w3):\n",
    "\n",
    "    # Load the contract ABI\n",
    "    with open(Path('./contracts/compiled/mem_token_abi.json')) as f:\n",
    "        mem_token_abi = json.load(f)\n",
    "\n",
    "    contract_address = os.getenv(\"SMART_CONTRACT_ADDRESS\")\n",
    "\n",
    "    # Load the contract\n",
    "    contract = w3.eth.contract(\n",
    "        address=contract_address,\n",
    "        abi=mem_token_abi\n",
    "    )\n",
    "\n",
    "    return contract\n",
    "\n"
   ]
  },
  {
   "cell_type": "code",
   "execution_count": 39,
   "id": "9051951a-a8e0-47e3-b312-f477502e681b",
   "metadata": {},
   "outputs": [],
   "source": [
    "contract = load_contract(w3)"
   ]
  },
  {
   "cell_type": "code",
   "execution_count": 40,
   "id": "5e70ad0c-7c0f-4c00-a0ab-c79da9ddcf94",
   "metadata": {},
   "outputs": [
    {
     "name": "stdout",
     "output_type": "stream",
     "text": [
      "<web3._utils.datatypes.Contract object at 0x00000243B4A258D0>\n"
     ]
    }
   ],
   "source": [
    "print(contract)"
   ]
  },
  {
   "cell_type": "code",
   "execution_count": 50,
   "id": "9028b064-d9fa-40b2-9746-147cd31287c0",
   "metadata": {},
   "outputs": [
    {
     "data": {
      "text/plain": [
       "['0x9990CA430403CC9A90b874BaF1aD877a56FA3a9b',\n",
       " '0xfe28b170E3F283DaA8A98ef84A09ff0A004F37F3',\n",
       " '0xcb36e342787D12157C85f3618B3d1839494167F3',\n",
       " '0x7b442a7044977e1439b74f23d9b77d6663cE3410',\n",
       " '0x0DeA5005b7585721dd83b82c5f9f61c772129392',\n",
       " '0xb9575455E6339A97D10D00E2957832cEF3DDBE59',\n",
       " '0x783bC8d62c25003b724F6EB3e6482D8BC36F32aC',\n",
       " '0x8039511cA043613A0C7a36505E888c0B1c5fa679',\n",
       " '0x08a72D2E1C574F76C61eBFf47c9290dB8bE37CF9',\n",
       " '0xFd86A5584BDf7eBfB0Be82a5fcD9B93bC92171c2']"
      ]
     },
     "execution_count": 50,
     "metadata": {},
     "output_type": "execute_result"
    }
   ],
   "source": [
    "all_accounts = w3.eth.accounts\n",
    "all_accounts"
   ]
  },
  {
   "cell_type": "code",
   "execution_count": 58,
   "id": "42b6c8e8-dd2d-4ad6-bef5-2ac418569c54",
   "metadata": {
    "tags": []
   },
   "outputs": [],
   "source": [
    "from faker import Faker\n",
    "fake = Faker()\n",
    "\n",
    "\n",
    "\n",
    "# Connect to database\n",
    "connection = psycopg2.connect(\n",
    "    dbname=\"fintech_project_3\",\n",
    "    user=\"postgres\",\n",
    "    password=\"postgres\",\n",
    "    host=\"localhost\",\n",
    "    port=5432\n",
    ")\n",
    "\n",
    "cursor = connection.cursor()\n",
    "\n",
    "traitIndex = 4\n",
    "\n",
    "for i in range(47):\n",
    "    \n",
    "    first_name = fake.first_name()\n",
    "    last_name = fake.last_name()\n",
    "    street_address = fake.street_address()\n",
    "    city = fake.city()\n",
    "    state = fake.state()\n",
    "    zip_code = fake.postalcode()\n",
    "    for i in all_accounts:\n",
    "        wall_bal = float(round(w3.fromWei(w3.eth.get_balance(i), \"ether\"),2))\n",
    "        if wall_bal < 150:\n",
    "            if wall_bal > 1:\n",
    "                address = i\n",
    "    \n",
    "    # Call trait price in wei for selected traitIndex\n",
    "    trait_price_wei = w3.toWei(contract.functions.getMembershipInfo(traitIndex).call()[1], 'wei')\n",
    "    # Convert price to ETH\n",
    "    trait_price_eth= w3.fromWei(trait_price_wei, 'ether') \n",
    "    \n",
    "    # Use the contract to send a transaction to the mintMembership function\n",
    "    tx_hash = contract.functions.mintMembership(\n",
    "        address,\n",
    "        traitIndex\n",
    "    ).transact({'from': address, 'gas': 1000000, 'value': trait_price_wei})\n",
    "    receipt = w3.eth.waitForTransactionReceipt(tx_hash)\n",
    "\n",
    "    # Store other values for db insert\n",
    "    tx_hash_value=receipt['transactionHash'].hex()\n",
    "    traitIndex_value=traitIndex\n",
    "    eth_price_value=trait_price_eth\n",
    "    gas_cost_value= receipt['gasUsed']\n",
    "\n",
    "    insert_query = \"\"\"\n",
    "    INSERT INTO customer_data (first_name, last_name, street_address, city, cust_state, zip_code, tx_hash, traitIndex, eth_price, gas_cost)\n",
    "    VALUES (%s, %s, %s, %s, %s, %s, %s, %s, %s, %s)\n",
    "    \"\"\"\n",
    "\n",
    "    data_to_insert = (first_name, last_name, street_address, city, state, zip_code, tx_hash_value, traitIndex_value, eth_price_value, gas_cost_value)\n",
    "\n",
    "    cursor.execute(insert_query, data_to_insert)\n",
    "    connection.commit()\n",
    "    \n",
    "\n",
    "cursor.close()\n",
    "connection.close()"
   ]
  },
  {
   "cell_type": "code",
   "execution_count": null,
   "id": "7f9418ff-2c59-46a9-9c1c-d4252c730dce",
   "metadata": {},
   "outputs": [],
   "source": []
  }
 ],
 "metadata": {
  "kernelspec": {
   "display_name": "Python 3 (ipykernel)",
   "language": "python",
   "name": "python3"
  },
  "language_info": {
   "codemirror_mode": {
    "name": "ipython",
    "version": 3
   },
   "file_extension": ".py",
   "mimetype": "text/x-python",
   "name": "python",
   "nbconvert_exporter": "python",
   "pygments_lexer": "ipython3",
   "version": "3.10.10"
  }
 },
 "nbformat": 4,
 "nbformat_minor": 5
}
